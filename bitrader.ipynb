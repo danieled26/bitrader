{
  "nbformat": 4,
  "nbformat_minor": 0,
  "metadata": {
    "colab": {
      "provenance": [],
      "authorship_tag": "ABX9TyPunkMPFCrY3nQB5TEGiMYg",
      "include_colab_link": true
    },
    "kernelspec": {
      "name": "python3",
      "display_name": "Python 3"
    },
    "language_info": {
      "name": "python"
    }
  },
  "cells": [
    {
      "cell_type": "markdown",
      "metadata": {
        "id": "view-in-github",
        "colab_type": "text"
      },
      "source": [
        "<a href=\"https://colab.research.google.com/github/danieled26/bitrader/blob/main/bitrader.ipynb\" target=\"_parent\"><img src=\"https://colab.research.google.com/assets/colab-badge.svg\" alt=\"Open In Colab\"/></a>"
      ]
    },
    {
      "cell_type": "markdown",
      "source": [
        "Connect to git\n"
      ],
      "metadata": {
        "id": "MnVQ88vYDpHT"
      }
    },
    {
      "cell_type": "code",
      "source": [],
      "metadata": {
        "id": "ESmtc19wDw4l"
      },
      "execution_count": null,
      "outputs": []
    }
  ]
}